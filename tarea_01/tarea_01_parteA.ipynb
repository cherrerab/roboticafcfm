{
  "nbformat": 4,
  "nbformat_minor": 0,
  "metadata": {
    "colab": {
      "name": "tarea_01_parteA.ipynb",
      "provenance": [],
      "collapsed_sections": [],
      "toc_visible": true
    },
    "kernelspec": {
      "display_name": "Python 3",
      "language": "python",
      "name": "python3"
    },
    "language_info": {
      "codemirror_mode": {
        "name": "ipython",
        "version": 3
      },
      "file_extension": ".py",
      "mimetype": "text/x-python",
      "name": "python",
      "nbconvert_exporter": "python",
      "pygments_lexer": "ipython3",
      "version": "3.7.3"
    }
  },
  "cells": [
    {
      "cell_type": "markdown",
      "metadata": {
        "id": "RZlMp79fYtoB"
      },
      "source": [
        "# Tarea 1: Visión Computacional\n",
        "\n",
        "ME4707 - Robótica - Semestre 2021-1\n",
        "\n",
        "Profesor: Juan C. Zagal - Auxiliar: Cristián Herrera - Laboratorios: Raimundo Lorca"
      ]
    },
    {
      "cell_type": "markdown",
      "metadata": {
        "id": "8rHieWNXYtoG"
      },
      "source": [
        "# Instalación\n",
        "## 1. Google Colab\n",
        "En esta tarea, que se trabajará durante los primeros cuatro laboratorios computacionales, se utilizará Python 3 y la librería de visión computacional OpenCV. La forma más fácil de tener un ambiente de desarrollo de Python con todas las bibliotecas más comunes es utilizar **Google Colaboratory**. Colaboratory es un entorno Jupyter notebook gratuito que se ejecuta completamente en la nube. Puede escribir y ejecutar código, y solo requiere de una cuenta google.\n",
        "\n",
        "https://colab.research.google.com/notebooks/welcome.ipynb\n",
        "\n",
        "Debe trabajar sobre este mismo archivo .ipynb completando lo que se solicita en cada problema.\n",
        "\n",
        "## 2. OpenCV\n",
        "En esta tarea se utilizará principalmente **OpenCV**. La Open Surce Computer Vision es una librería especializada en herramientas de visión computacional y en todo lo que respecta a visión artificial en general. De este modo provee de funcionalidades de todo tipo de complejidad, desde operaciones básicas de procesamiento de imágenes, hasta algoritmos de reconocimiento de objetos.\n",
        "\n",
        "<img src=\"https://raw.githubusercontent.com/cherrerab/roboticafcfm/master/auxiliar_01/bin/opencv_logo.png\" height=\"200\">\n",
        "\n",
        "Por supuesto, esta librería cuenta con su documentación correspondiente. En esta puede encontrar descripciones más detalladas de sus funcionalidades, así como también ejemplos, tutoriales y otros.\n",
        "\n",
        "https://docs.opencv.org/master/\n"
      ]
    },
    {
      "cell_type": "markdown",
      "metadata": {
        "id": "d-LXxRoQlzcJ"
      },
      "source": [
        "##3. Imágenes\n",
        "\n",
        "Para facilitar la carga de los archivos necesarios para completar la tarea, se ha habilitado un directorio en el github del curso `roboticafcfm`. Para clonar el repositorio en el entorno de Colab solo debe ejecutar el siguiente bloque de código."
      ]
    },
    {
      "cell_type": "code",
      "metadata": {
        "id": "Zirn0JPfhgAO"
      },
      "source": [
        "!git clone https://github.com/cherrerab/roboticafcfm.git\n",
        "%cd /content/roboticafcfm"
      ],
      "execution_count": null,
      "outputs": []
    },
    {
      "cell_type": "markdown",
      "metadata": {
        "id": "J3d6KazRJe-t"
      },
      "source": [
        "# Problema 1: Image Masking\n",
        "Como se ha visto en las clases del curso, las imágenes digitales consisten en arreglos discretos de valores numéricos, donde cada valor define la intensidad de iluminación que posee un punto `pixel` específico en la imagen.\n",
        "\n",
        "Por ejemplo, cargue la imagen `balls.jpg` e imprima las dimensiones de esta. Esto lo puede hacer mediante el siguiente código:"
      ]
    },
    {
      "cell_type": "code",
      "metadata": {
        "id": "V09stGwGqbky"
      },
      "source": [
        "# el módulo matplotlib.plt nos permite visualizar las imágenes\n",
        "# el módulo numpy contiene herramientas para arreglos numéricos\n",
        "from matplotlib import pyplot as plt\n",
        "import numpy as np\n",
        "import cv2\n",
        "\n",
        "# para leer una imagen, hay que ingresar su ubicación en la función cv2.imread\n",
        "img = cv2.imread('tarea_01//images//balls.jpg')\n",
        "\n",
        "# las dimensiones de la imagen pueden ser obtenidas utilizando el atributo .shape\n",
        "print('la imagen balls.jpg tiene dimensiones: ', img.shape )"
      ],
      "execution_count": null,
      "outputs": []
    },
    {
      "cell_type": "markdown",
      "metadata": {
        "id": "QIQhH81stGXQ"
      },
      "source": [
        "Se puede notar que la imagen es un arreglo o bien, matriz de tres dimensiones `640x640x3`. En este caso, el primer valor corresponde a la altura `height` de la imagen, el segundo al ancho `width` de esta, y el último a la cantidad de canales que posee. Así, se trata de una imagen de 640x640 de 3 canales RGB.\n",
        "\n",
        "Ahora, al cargar imágenes utilizando cv2.imread estas son cargadas como BGR y no RGB, por lo que los canales están inicialmente mal asignados. Para corregir esto existe la función `cv2.cvtColor` con la cual es posible cambiar el colorspace de la imagen."
      ]
    },
    {
      "cell_type": "code",
      "metadata": {
        "id": "a5TXwwnpuVms"
      },
      "source": [
        "# leer imagen\n",
        "img = cv2.imread('tarea_01//images//balls.jpg')\n",
        "\n",
        "# mostrar imagen en BGR\n",
        "fig = plt.figure(figsize=(6, 6))\n",
        "plt.imshow(img)\n",
        "plt.axis('off')\n",
        "\n",
        "# corregir a RGB\n",
        "img_rgb = cv2.cvtColor(img, cv2.COLOR_BGR2RGB)\n",
        "\n",
        "# mostrar imagen en RGB (correcta)\n",
        "fig = plt.figure(figsize=(6, 6))\n",
        "plt.imshow(img_rgb)\n",
        "plt.axis('off')\n",
        "\n",
        "# también se puede convertir a escala de grises\n",
        "img_gray = cv2.cvtColor(img, cv2.COLOR_BGR2GRAY)\n",
        "fig = plt.figure(figsize=(6, 6))\n",
        "plt.imshow(img_gray, cmap='gray')\n",
        "plt.axis('off')"
      ],
      "execution_count": null,
      "outputs": []
    },
    {
      "cell_type": "markdown",
      "metadata": {
        "id": "2ijPIyLjqci2"
      },
      "source": [
        "Como se puede ver, la imagen consiste principalmente en tres bolas de luz (dos rojas y una de color verde). No obstante, existe bastante contenido adicional que no parece muy relevante y que podría ser removido. Así, se podría procesar la imagen de tal manera de aislar las bolas tal como se muestra en la imagen `balls_masked.png`.\n",
        "\n",
        "<img src=\"https://raw.githubusercontent.com/cherrerab/roboticafcfm/master/tarea_01/bin/prob_01.png\" height=\"210\">\n",
        "\n",
        "Para lograr lo anterior se puede generar una máscara `mask` a partir de una imagen binarizada y multiplicar esta con la imagen original.\n",
        "\n",
        "En términos simples, una `mask` no es más que que un arreglo binario que describe las zonas de interés de una imagen, y por tanto, permite realizar segmentaciones como la mostrada a continuación.\n",
        "\n",
        "<img src=\"https://raw.githubusercontent.com/cherrerab/roboticafcfm/master/tarea_01/bin/prob_02.png\" height=\"250\">\n",
        "\n",
        "Una forma de binarizar una imagen es utilizando la función `cv2.inRange(img, umbral, 255)`, donde `umbral` indica el valor que define la segementación del resultado. También se puede utilizar la función `cv2.threshold` que podrá encontrar en la documentación."
      ]
    },
    {
      "cell_type": "code",
      "metadata": {
        "id": "V86LOwtF2lWB"
      },
      "source": [
        "# ---\n",
        "# leer imagen\n",
        "img = cv2.imread('tarea_01//images//balls.jpg')\n",
        "img = cv2.cvtColor(img, cv2.COLOR_BGR2RGB)\n",
        "\n",
        "# convertir a escala de grises\n",
        "img_gray = cv2.cvtColor(img, cv2.COLOR_RGB2GRAY)\n",
        "\n",
        "fig = plt.figure(figsize=(6, 6))\n",
        "plt.imshow(img_gray, cmap='gray')\n",
        "plt.axis('off')\n",
        "\n",
        "# ---\n",
        "# binarizar con cv2.inRange\n",
        "# **los valores de la máscara deben estar entre 0 y 1\n",
        "mask = cv2.inRange(img_gray, 50, 255)\n",
        "mask = mask/255\n",
        "\n",
        "fig = plt.figure(figsize=(6, 6))\n",
        "plt.imshow(mask, cmap='gray')\n",
        "plt.axis('off')\n",
        "\n",
        "# ---\n",
        "# multiplicar máscara con imagen original\n",
        "\n",
        "# inicializar nueva imagen img_mask\n",
        "img_mask = np.zeros_like(img)\n",
        "\n",
        "# para cada uno de los canales en img\n",
        "for c in range(3):\n",
        "  img_mask[:,:,c] = np.multiply(img[:,:,c], mask)\n",
        "\n",
        "fig = plt.figure(figsize=(6, 6))\n",
        "plt.imshow(img_mask)\n",
        "plt.axis('off')\n"
      ],
      "execution_count": null,
      "outputs": []
    },
    {
      "cell_type": "markdown",
      "metadata": {
        "id": "DORDNTdz2p8P"
      },
      "source": [
        "En el ejemplo anterior no se lograron aislar por completo las bolas de luz debido a que el umbral seleccionado en la binarización no es el adecuado. Un método para determinar este umbral es analizando el histograma de la imagen.\n",
        "\n",
        "Los histogramas de una imagen, corresponden a la representación gráfica de la distribución de las intensidades al interior de la imagen. Estos pueden ser generados utilizando la función `plt.hist(array, bins)`, donde el parámetro `array` consiste en el `np.array` a procesar, mientras que `bins` determina la discretización del histograma."
      ]
    },
    {
      "cell_type": "markdown",
      "metadata": {
        "id": "3SN9427XBnj9"
      },
      "source": [
        "(a) Convierta la imagen a escala de grises y visualice su histograma (cree una nueva figura para esto y utilice la función `plt.hist` sobre `img.flatten()`). A partir del histograma, determine el umbral adecuado para la máscara y genere la imagen con las esféras aisladas."
      ]
    },
    {
      "cell_type": "code",
      "metadata": {
        "id": "UWSAoZ6QFijh"
      },
      "source": [
        "# RESPUESTA PROBLEMA 1.a\n",
        "\n",
        "# 1. leer la imagen (RGB)\n",
        "\n",
        "# 2. convertir a escala de grises\n",
        "\n",
        "# 3. plotear histograma de la imagen en escala de grises\n",
        "\n",
        "# 4. crear máscara binaria a partir del umbral del histograma\n",
        "\n",
        "# 5. multiplicar imagen original con máscara y visualizar"
      ],
      "execution_count": null,
      "outputs": []
    },
    {
      "cell_type": "markdown",
      "metadata": {
        "id": "4YY8KYX2GW-m"
      },
      "source": [
        "\n",
        "b) Suponga que ahora solo desea segmentar la esfera de color verde. Sobre la imagen RGB elija el canal correspondiente y obtenga una nueva máscara para cumplir el requisito anterior.\n",
        "\n",
        "<img src=\"https://raw.githubusercontent.com/cherrerab/roboticafcfm/master/tarea_01/bin/prob_03.png\" height=\"250\">"
      ]
    },
    {
      "cell_type": "code",
      "metadata": {
        "id": "SxM3O0bbI6H-"
      },
      "source": [
        "# RESPUESTA PROBLEMA 1.b\n",
        "\n",
        "# 1. leer la imagen (RGB)\n",
        "\n",
        "# 2. seleccionar canal de la imagen\n",
        "\n",
        "# 3. plotear histograma del canal\n",
        "\n",
        "# 4. crear máscara binaria a partir del umbral del histograma\n",
        "\n",
        "# 5. multiplicar imagen original con máscara y visualizar"
      ],
      "execution_count": null,
      "outputs": []
    },
    {
      "cell_type": "markdown",
      "metadata": {
        "id": "trckpJIfJiTk"
      },
      "source": [
        "# Problema 2: Applying Numerical Functions\n",
        "\n",
        "Parte importante en el procesamiento de imágenes digitales es la aplicación de transformaciones (lineales y no-lineales) sobre los valores numéricos de estas. Para introducir esta idea, considere el siguiente problema sobre la imagen en escala de grises `old.jpg`."
      ]
    },
    {
      "cell_type": "code",
      "metadata": {
        "id": "yXdOnatkJXlh"
      },
      "source": [
        "# leer imagen\n",
        "img = cv2.imread('tarea_01//images//old.jpg')\n",
        "img = cv2.cvtColor(img, cv2.COLOR_BGR2GRAY)\n",
        "\n",
        "# mostrar imagen\n",
        "fig = plt.figure(figsize=(6, 6))\n",
        "plt.imshow(img, cmap='gray', vmin=0, vmax=255)\n",
        "plt.axis('off')\n"
      ],
      "execution_count": null,
      "outputs": []
    },
    {
      "cell_type": "markdown",
      "metadata": {
        "id": "6V6hz0eHOsMv"
      },
      "source": [
        "Como se puede observar, esta imagen posee un muy bajo contraste, donde claramente los valores de los pixeles no utilizan todo el rango de intensidades `[0, 255]` disponible. Para corregir esto, se puede aplicar una transformación lineal punto a punto.\n",
        "\n",
        "<img src=\"https://raw.githubusercontent.com/cherrerab/roboticafcfm/master/tarea_01/bin/prob_04.png\" height=\"250\">\n",
        "\n",
        "(a) Analice el histograma de la imagen y determine el rango de intensidades contenido en esta (obtenga los valores `min` y `max` correspondientes). Luego, considerando estos límites (`v_min` y `v_max`), aplique la transformación `scaling`:\n",
        "\n",
        "`new_px = 255*(px - v_min)/(v_max - v_min)`\n",
        "\n",
        "sobre cada uno de los pixeles en la imagen y visualice el resultado. Esta función `scaling` simplemente escala los valores de los pixeles tal que el mínimo y el máximo correspondan a 0 y 255, respectivamente.\n",
        "\n",
        "**Al operar numéricamente los valores de una imagen `np.uint8`, suele convenir transformar esta a valores punto flotante `np.float32`."
      ]
    },
    {
      "cell_type": "code",
      "metadata": {
        "id": "vQm2QXB5QstR"
      },
      "source": [
        "# RESPUESTA PROBLEMA 2.a\n",
        "\n",
        "# ---\n",
        "# leer imagen\n",
        "img = cv2.imread('tarea_01//images//old.jpg')\n",
        "img = cv2.cvtColor(img, cv2.COLOR_BGR2GRAY)\n",
        "\n",
        "# transformar imagen a np.float32\n",
        "\n",
        "\n",
        "# ---\n",
        "# plotear histograma de la imagen\n",
        "\n",
        "\n",
        "# defina valores v_min y v_max (puede utilizar np.min y np.max si lo prefiere)\n",
        "v_min = \n",
        "v_max = \n",
        "\n",
        "# ---\n",
        "# transformar imagen\n",
        "for i in range(img.shape[0]):\n",
        "  for j in range(img.shape[1]):\n",
        "\n",
        "    # aplicar transformación\n",
        "    img[i, j] = \n",
        "\n",
        "# transformar imagen a np.uint8\n",
        "\n",
        "\n",
        "# mostrar imagen\n",
        "fig = plt.figure(figsize=(6, 6))\n",
        "plt.imshow(img, cmap='gray', vmin=0, vmax=255)\n",
        "plt.axis('off')"
      ],
      "execution_count": null,
      "outputs": []
    },
    {
      "cell_type": "markdown",
      "metadata": {
        "id": "QdPgfNreUOpa"
      },
      "source": [
        "(b) Siguiendo el mismo procedimiento, normalice los valores de intensidad de la imagen entre `[0, 1]` y luego aplique la transformación:\n",
        "\n",
        "`new_px = log( px + alpha )`\n",
        "\n",
        "sobre la imagen. Puede que sea necesario aplicar un último `scaling` al rango `[0, 255]` posterior a la transformación.\n",
        "\n",
        "¿Cuales son los efectos de esta operación? ¿Por qué se necesita el parámetro \u000b `alpha` y como afecta este los resultados? ¿Cual es\n",
        "un valor adecuado para `alpha`?\n",
        "\n",
        "\n"
      ]
    },
    {
      "cell_type": "code",
      "metadata": {
        "id": "Epr_FL7VUNeS"
      },
      "source": [
        "# RESPUESTA PROBLEMA 2.b\n",
        "\n",
        "# leer imagen\n",
        "img = cv2.imread('tarea_01//images//old.jpg')\n",
        "img = cv2.cvtColor(img, cv2.COLOR_BGR2GRAY)\n",
        "height, width, _ = img.shape\n",
        "\n",
        "# transformar imagen a np.float32\n",
        "\n",
        "\n",
        "# plotear histograma de la imagen\n",
        "\n",
        "\n",
        "# ---\n",
        "# normalizar imagen (scaling entre 0 y 1)\n",
        "v_min = \n",
        "v_max = \n",
        "\n",
        "for i in range(height):\n",
        "  for j in range(width):\n",
        "    img[i, j] = \n",
        "\n",
        "# ---\n",
        "# transformar imagen\n",
        "alpha = 0.05\n",
        "\n",
        "for i in range(height):\n",
        "  for j in range(width):\n",
        "    img[i, j] = \n",
        "\n",
        "\n",
        "# plotear histograma de la imagen transformada\n",
        "plt.hist(img.flatten(), 40)\n",
        "\n",
        "\n",
        "# ---\n",
        "# escalar imagen (scaling entre 0 y 255)\n",
        "v_min = \n",
        "v_max = \n",
        "\n",
        "for i in range(height):\n",
        "  for j in range(width):\n",
        "    img[i, j] = \n",
        "\n",
        "\n",
        "# transformar imagen a np.uint8\n",
        "\n",
        "\n",
        "# mostrar imagen\n",
        "fig = plt.figure(figsize=(6, 6))\n",
        "plt.imshow(img, cmap='gray')\n",
        "plt.axis('off')"
      ],
      "execution_count": null,
      "outputs": []
    },
    {
      "cell_type": "markdown",
      "metadata": {
        "id": "vtq1iTVirC9b"
      },
      "source": [
        "# Problema 3: Coin Classification\n",
        "\n",
        "Considere la imagen de monedas `coins.png`. Se desea elaborar un algoritmo que permita clasificar cada una de las monedas de acuerdo a su tamaño.\n",
        "\n",
        "<img src=\"https://raw.githubusercontent.com/cherrerab/roboticafcfm/master/tarea_01/bin/prob_05.png\" height=\"250\">\n",
        "\n",
        "En el Problema 1 de esta tarea ya se vio como es posible segmentar los cuerpos de una imagen mediante la binarización adecuada de esta."
      ]
    },
    {
      "cell_type": "code",
      "metadata": {
        "id": "pR9cONaDr52c"
      },
      "source": [
        "# leer imagen\n",
        "img = cv2.imread('tarea_01//images//coins.png')\n",
        "img = cv2.cvtColor(img, cv2.COLOR_BGR2RGB)\n",
        "\n",
        "# convertir a escala de grises\n",
        "img_gray = cv2.cvtColor(img, cv2.COLOR_RGB2GRAY)\n",
        "\n",
        "fig = plt.figure(figsize=(6, 6))\n",
        "plt.imshow(img_gray, cmap='gray')\n",
        "plt.axis('off')\n",
        "\n",
        "# binarizar con cv2.inRange (los valores de la máscara deben estar entre 0 y 1)\n",
        "mask = cv2.inRange(img_gray, 90, 255)\n",
        "mask = mask/255\n",
        "\n",
        "fig = plt.figure(figsize=(6, 6))\n",
        "plt.imshow(mask, cmap='gray')\n",
        "plt.axis('off')"
      ],
      "execution_count": null,
      "outputs": []
    },
    {
      "cell_type": "markdown",
      "metadata": {
        "id": "tMPBG5FVstNv"
      },
      "source": [
        "No obstante, esto no permite aislar cada una de las monedas por si sola ya que estas son relativamente del mismo color (o más bien, tonalidad de gris). Para resolver esto, se puede utilizar el algoritmo `Connected Componentes` (implementado en `cv2.connectedComponents`) el cual, a partir de una imagen binarizada etiqueta cada uno de los cuerpos presentes. Esto último permite acceder a cada uno de los cuerpos mediante su etiqueta o bien, índice.\n",
        "\n",
        "<img src=\"https://raw.githubusercontent.com/cherrerab/roboticafcfm/master/tarea_01/bin/prob_06.png\" height=\"250\">"
      ]
    },
    {
      "cell_type": "code",
      "metadata": {
        "id": "w8L4RxcxtL8A"
      },
      "source": [
        "# ---\n",
        "# leer imagen\n",
        "img = cv2.imread('tarea_01//images//coins.png')\n",
        "img = cv2.cvtColor(img, cv2.COLOR_BGR2RGB)\n",
        "\n",
        "# convertir a escala de grises\n",
        "img_gray = cv2.cvtColor(img, cv2.COLOR_RGB2GRAY)\n",
        "\n",
        "# binarizar con cv2.inRange (los valores de la máscara deben estar entre 0 y 1)\n",
        "mask = cv2.inRange(img_gray, 90, 255)/255\n",
        "mask = np.uint8(mask)\n",
        "\n",
        "fig = plt.figure(figsize=(6, 6))\n",
        "plt.imshow(mask, cmap='gray')\n",
        "plt.axis('off')\n",
        "\n",
        "# ---\n",
        "# etiquetar mediante connected components\n",
        "# retorna cantidad de cuerpos identificados y una imagen con las etiquetas\n",
        "num_coins, labels = cv2.connectedComponents(mask)\n",
        "\n",
        "print('monedas identificadas: {:d}'.format((num_coins - 1)))\n",
        "\n",
        "fig = plt.figure(figsize=(6, 6))\n",
        "plt.imshow(labels, cmap='jet')\n",
        "plt.axis('off')\n",
        "\n",
        "# obtener mask de moneda con etiqueta 6\n",
        "coin_6 = np.uint8( labels==6 )\n",
        "\n",
        "fig = plt.figure(figsize=(6, 6))\n",
        "plt.imshow(coin_6, cmap='gray')\n",
        "plt.axis('off')\n"
      ],
      "execution_count": null,
      "outputs": []
    },
    {
      "cell_type": "markdown",
      "metadata": {
        "id": "nWoft8WYvW7v"
      },
      "source": [
        "(a) Utilizando un `for loop` itere sobre los índices de las monedas y clasifiquelas a partir de su tamaño (note que puede hacer esto a partir de su área o cantidad de piexeles), genere una imagen binaria con las monedas grandes y otra con las monedas pequeñas.\n",
        "\n",
        "<img src=\"https://raw.githubusercontent.com/cherrerab/roboticafcfm/master/tarea_01/bin/prob_07.png\" height=\"250\">"
      ]
    },
    {
      "cell_type": "code",
      "metadata": {
        "id": "hAP8uX9OwR24"
      },
      "source": [
        "# RESPUESTA PROBLEMA 3.a\n",
        "\n",
        "# leer imagen\n",
        "img = cv2.imread('tarea_01//images//coins.png')\n",
        "img = cv2.cvtColor(img, cv2.COLOR_BGR2RGB)\n",
        "\n",
        "# convertir a escala de grises\n",
        "img_gray = cv2.cvtColor(img, cv2.COLOR_RGB2GRAY)\n",
        "\n",
        "# binarizar con cv2.inRange (los valores de la máscara deben estar entre 0 y 1)\n",
        "mask = cv2.inRange(img_gray, 90, 255)/255\n",
        "mask = np.uint8(mask)\n",
        "\n",
        "# etiquetar mediante connected components\n",
        "num_coins, labels = \n",
        "\n",
        "# inicializar imágenes de monedas pequeñas y grandes\n",
        "small_coins = np.zeros_like(mask)\n",
        "big_coins = np.zeros_like(mask)\n",
        "\n",
        "# para cada una de las etiquetas identificadas\n",
        "for i in np.arange(num_coins):\n",
        "  \n",
        "  # si el área de la moneada coin_i corresponde a moneda pequeña\n",
        "\n",
        "    # agregar mask a small_coins (sume las imágenes)\n",
        "\n",
        "  # else\n",
        "\n",
        "    # agregar mask a big_coins (sume las imágenes)\n",
        "\n",
        "# ---\n",
        "# visualizar resultados\n",
        "fig = plt.figure(figsize=(10, 10))\n",
        "plt.imshow(small_coins, cmap='gray')\n",
        "plt.axis('off')\n",
        "\n",
        "fig = plt.figure(figsize=(10, 10))\n",
        "plt.imshow(big_coins, cmap='gray')\n",
        "plt.axis('off')\n",
        "\n"
      ],
      "execution_count": null,
      "outputs": []
    }
  ]
}